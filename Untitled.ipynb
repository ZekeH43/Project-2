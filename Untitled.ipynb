{
 "cells": [
  {
   "cell_type": "code",
   "execution_count": null,
   "id": "acd11c4d-d177-4e41-98a9-014a9de218cc",
   "metadata": {},
   "outputs": [],
   "source": [
    "# Scatter plots\n",
    "warnings.filterwarnings(\"ignore\")\n",
    "sns.pairplot(test_set_1[['distance_from_home', 'distance_from_last_transaction',\n",
    "                 'ratio_to_median_purchase_price', 'repeat_retailer',\n",
    "                 'used_chip', 'used_pin_number', 'online_order', 'fraud']],\n",
    "             hue='fraud', markers=[\"o\", \"s\"], palette='viridis', plot_kws={'alpha': 0.5})\n",
    "plt.suptitle('Pair Plot of Selected Features', y=1.02)\n",
    "plt.show()"
   ]
  },
  {
   "cell_type": "code",
   "execution_count": null,
   "id": "d5305b19-89ab-4f0d-bbde-e2a4810be0bd",
   "metadata": {},
   "outputs": [],
   "source": [
    "# Heat map for the correlation matrix\n",
    "corr_matrix = df[['distance_from_home', 'distance_from_last_transaction',\n",
    "                  'ratio_to_median_purchase_price', 'repeat_retailer',\n",
    "                  'used_chip', 'used_pin_number', 'online_order', 'fraud']].corr()\n",
    "plt.figure(figsize=(10, 8))\n",
    "sns.heatmap(corr_matrix, annot=True, cmap='coolwarm', fmt='.2f')\n",
    "plt.title('Correlation Matrix Heatmap')\n",
    "plt.show"
   ]
  }
 ],
 "metadata": {
  "kernelspec": {
   "display_name": "Python 3 (ipykernel)",
   "language": "python",
   "name": "python3"
  },
  "language_info": {
   "codemirror_mode": {
    "name": "ipython",
    "version": 3
   },
   "file_extension": ".py",
   "mimetype": "text/x-python",
   "name": "python",
   "nbconvert_exporter": "python",
   "pygments_lexer": "ipython3",
   "version": "3.10.13"
  }
 },
 "nbformat": 4,
 "nbformat_minor": 5
}
