{
 "cells": [
  {
   "cell_type": "code",
   "execution_count": 1,
   "id": "524b4240-88bf-4279-ba54-0aec45f26ed6",
   "metadata": {},
   "outputs": [
    {
     "name": "stdout",
     "output_type": "stream",
     "text": [
      "Actual vs. Predicted:\n",
      "     Actual  Predicted\n",
      "110       0          0\n",
      "147       0          0\n",
      "307       0          0\n",
      "326       0          0\n",
      "189       0          0\n",
      "..      ...        ...\n",
      "41        0          0\n",
      "483       0          0\n",
      "285       0          0\n",
      "414       0          0\n",
      "289       1          0\n",
      "\n",
      "[125 rows x 2 columns]\n",
      "\n",
      "Logistic Regression Coefficients:\n",
      "                                Coefficient\n",
      "online_order                       1.772673\n",
      "ratio_to_median_purchase_price     1.452955\n",
      "distance_from_home                 0.872133\n",
      "distance_from_last_transaction     0.123431\n",
      "repeat_retailer                   -0.032148\n",
      "used_chip                         -0.581926\n",
      "used_pin_number                   -0.776018\n"
     ]
    }
   ],
   "source": [
    "# Import necessary libraries\n",
    "import pandas as pd\n",
    "from pathlib import Path\n",
    "from sklearn.model_selection import train_test_split\n",
    "from sklearn.preprocessing import StandardScaler\n",
    "from sklearn.linear_model import LogisticRegression\n",
    "\n",
    "# Load data\n",
    "file_path = Path(\"../Project-2/Resources/credit_card_data_2.csv\")\n",
    "df = pd.read_csv(file_path)\n",
    "\n",
    "# Split target column from dataset\n",
    "y = df['fraud']\n",
    "X = df.drop(columns='fraud')\n",
    "\n",
    "# Split the dataset\n",
    "X_train, X_test, y_train, y_test = train_test_split(X, y, random_state=1)\n",
    "\n",
    "# Scale the data\n",
    "scaler = StandardScaler()\n",
    "X_scaler = scaler.fit(X_train)\n",
    "X_train_scaled = X_scaler.transform(X_train)\n",
    "X_test_scaled = X_scaler.transform(X_test)\n",
    "\n",
    "# Logistic Regression\n",
    "logistic_model = LogisticRegression()\n",
    "logistic_model.fit(X_train_scaled, y_train)\n",
    "\n",
    "# Predictions\n",
    "y_pred_logistic = logistic_model.predict(X_test_scaled)\n",
    "\n",
    "# Create a DataFrame with actual and predicted values\n",
    "results_df = pd.DataFrame({\n",
    "    'Actual': y_test,\n",
    "    'Predicted': y_pred_logistic\n",
    "})\n",
    "\n",
    "# Print the DataFrame with actual and predicted values\n",
    "print(\"Actual vs. Predicted:\")\n",
    "print(results_df)\n",
    "\n",
    "# Print coefficients\n",
    "coefficients = pd.DataFrame(logistic_model.coef_[0], index=X.columns, columns=['Coefficient'])\n",
    "coefficients.sort_values(by='Coefficient', ascending=False, inplace=True)\n",
    "\n",
    "print(\"\\nLogistic Regression Coefficients:\")\n",
    "print(coefficients)\n"
   ]
  },
  {
   "cell_type": "code",
   "execution_count": null,
   "id": "6b138c7a-d521-4ad8-8a1e-9373d3721a0b",
   "metadata": {},
   "outputs": [],
   "source": []
  }
 ],
 "metadata": {
  "kernelspec": {
   "display_name": "Python 3 (ipykernel)",
   "language": "python",
   "name": "python3"
  },
  "language_info": {
   "codemirror_mode": {
    "name": "ipython",
    "version": 3
   },
   "file_extension": ".py",
   "mimetype": "text/x-python",
   "name": "python",
   "nbconvert_exporter": "python",
   "pygments_lexer": "ipython3",
   "version": "3.10.13"
  }
 },
 "nbformat": 4,
 "nbformat_minor": 5
}
